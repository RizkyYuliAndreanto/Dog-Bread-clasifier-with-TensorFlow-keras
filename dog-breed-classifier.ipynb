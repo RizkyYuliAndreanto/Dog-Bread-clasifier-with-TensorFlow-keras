{
 "cells": [
  {
   "cell_type": "code",
   "execution_count": 1,
   "metadata": {
    "_cell_guid": "b1076dfc-b9ad-4769-8c92-a6c4dae69d19",
    "_uuid": "8f2839f25d086af736a60e9eeb907d3b93b6e0e5",
    "execution": {
     "iopub.execute_input": "2025-06-23T09:13:41.156831Z",
     "iopub.status.busy": "2025-06-23T09:13:41.156604Z",
     "iopub.status.idle": "2025-06-23T09:14:06.519218Z",
     "shell.execute_reply": "2025-06-23T09:14:06.518355Z",
     "shell.execute_reply.started": "2025-06-23T09:13:41.156808Z"
    },
    "trusted": true
   },
   "outputs": [
    {
     "name": "stderr",
     "output_type": "stream",
     "text": [
      "2025-06-23 09:13:46.718859: E external/local_xla/xla/stream_executor/cuda/cuda_fft.cc:477] Unable to register cuFFT factory: Attempting to register factory for plugin cuFFT when one has already been registered\n",
      "WARNING: All log messages before absl::InitializeLog() is called are written to STDERR\n",
      "E0000 00:00:1750670027.119180      35 cuda_dnn.cc:8310] Unable to register cuDNN factory: Attempting to register factory for plugin cuDNN when one has already been registered\n",
      "E0000 00:00:1750670027.234213      35 cuda_blas.cc:1418] Unable to register cuBLAS factory: Attempting to register factory for plugin cuBLAS when one has already been registered\n"
     ]
    },
    {
     "name": "stdout",
     "output_type": "stream",
     "text": [
      "TensorFlow version: 2.18.0\n",
      "GPU is available\n",
      "\n",
      "Mengunduh dataset Stanford Dogs dari Kaggle...\n",
      "Dataset berhasil diunduh ke: /kaggle/input/stanford-dogs-dataset\n",
      "Folder gambar ditemukan di: /kaggle/input/stanford-dogs-dataset/images/Images\n",
      "--------------------------------------------------\n"
     ]
    }
   ],
   "source": [
    "# Import library yang dibutuhkan\n",
    "import numpy as np\n",
    "import pandas as pd\n",
    "import matplotlib.pyplot as plt\n",
    "import os\n",
    "import json # Untuk menyimpan mapping kelas\n",
    "\n",
    "# Library TensorFlow dan Keras untuk membangun dan melatih model CNN\n",
    "import tensorflow as tf\n",
    "from tensorflow.keras.preprocessing.image import ImageDataGenerator\n",
    "from tensorflow.keras.models import Sequential\n",
    "from tensorflow.keras.layers import Conv2D, MaxPooling2D, Flatten, Dense, Dropout, BatchNormalization\n",
    "from tensorflow.keras.optimizers import Adam\n",
    "from tensorflow.keras.callbacks import EarlyStopping, ReduceLROnPlateau, ModelCheckpoint\n",
    "\n",
    "# Untuk Transfer Learning (sangat direkomendasikan untuk proyek ini)\n",
    "from tensorflow.keras.applications import ResNet50V2 # Anda bisa coba MobileNetV2 atau EfficientNetB0 juga\n",
    "\n",
    "# Untuk membagi data menjadi set pelatihan dan pengujian\n",
    "from sklearn.model_selection import train_test_split\n",
    "from sklearn.metrics import classification_report # Untuk laporan evaluasi\n",
    "\n",
    "# Untuk mengakses dataset dari Kaggle secara programatis\n",
    "import kagglehub\n",
    "\n",
    "# Pastikan TensorFlow mendeteksi GPU Anda\n",
    "print(\"TensorFlow version:\", tf.__version__)\n",
    "print(\"GPU is\", \"available\" if tf.config.list_physical_devices('GPU') else \"NOT AVAILABLE\")\n",
    "\n",
    "# --- Unduh Dataset Menggunakan kagglehub ---\n",
    "print(\"\\nMengunduh dataset Stanford Dogs dari Kaggle...\")\n",
    "# 'path_ke_dataset_root' akan berisi lokasi tempat dataset diunduh di lingkungan Kaggle Anda\n",
    "path_ke_dataset_root = kagglehub.dataset_download(\"jessicali9530/stanford-dogs-dataset\")\n",
    "\n",
    "print(f\"Dataset berhasil diunduh ke: {path_ke_dataset_root}\")\n",
    "\n",
    "# Dataset Stanford Dogs memiliki folder gambar di dalam subdirektori 'images/Images'.\n",
    "# Kita perlu membuat path lengkap ke folder gambar ini.\n",
    "path_ke_gambar = os.path.join(path_ke_dataset_root, 'images', 'Images')\n",
    "\n",
    "# Verifikasi apakah path ke folder gambar sudah benar\n",
    "if not os.path.exists(path_ke_gambar):\n",
    "    print(f\"Error: Folder gambar tidak ditemukan di '{path_ke_gambar}'. Silakan periksa struktur dataset yang diunduh.\")\n",
    "else:\n",
    "    print(f\"Folder gambar ditemukan di: {path_ke_gambar}\")\n",
    "\n",
    "print(\"-\" * 50)"
   ]
  },
  {
   "cell_type": "code",
   "execution_count": null,
   "metadata": {
    "execution": {
     "iopub.execute_input": "2025-06-23T09:16:46.496289Z",
     "iopub.status.busy": "2025-06-23T09:16:46.495698Z",
     "iopub.status.idle": "2025-06-23T09:18:40.658573Z",
     "shell.execute_reply": "2025-06-23T09:18:40.657817Z",
     "shell.execute_reply.started": "2025-06-23T09:16:46.496265Z"
    },
    "trusted": true
   },
   "outputs": [
    {
     "name": "stdout",
     "output_type": "stream",
     "text": [
      "Memulai pra-pemrosesan data gambar...\n",
      "Total gambar yang ditemukan: 20580\n",
      "Jumlah ras anjing unik: 120\n",
      "\n",
      "Jumlah gambar untuk training: 16464\n",
      "Jumlah gambar untuk testing: 4116\n",
      "Found 13172 validated image filenames belonging to 120 classes.\n",
      "Found 3292 validated image filenames belonging to 120 classes.\n",
      "Found 4116 validated image filenames belonging to 120 classes.\n",
      "\n",
      "Mapping kelas (indeks angka ke nama ras):\n",
      "{0: 'Afghan_hound', 1: 'African_hunting_dog', 2: 'Airedale', 3: 'American_Staffordshire_terrier', 4: 'Appenzeller', 5: 'Australian_terrier', 6: 'Bedlington_terrier', 7: 'Bernese_mountain_dog', 8: 'Blenheim_spaniel', 9: 'Border_collie', 10: 'Border_terrier', 11: 'Boston_bull', 12: 'Bouvier_des_Flandres', 13: 'Brabancon_griffon', 14: 'Brittany_spaniel', 15: 'Cardigan', 16: 'Chesapeake_Bay_retriever', 17: 'Chihuahua', 18: 'Dandie_Dinmont', 19: 'Doberman', 20: 'English_foxhound', 21: 'English_setter', 22: 'English_springer', 23: 'EntleBucher', 24: 'Eskimo_dog', 25: 'French_bulldog', 26: 'German_shepherd', 27: 'German_short', 28: 'Gordon_setter', 29: 'Great_Dane', 30: 'Great_Pyrenees', 31: 'Greater_Swiss_Mountain_dog', 32: 'Ibizan_hound', 33: 'Irish_setter', 34: 'Irish_terrier', 35: 'Irish_water_spaniel', 36: 'Irish_wolfhound', 37: 'Italian_greyhound', 38: 'Japanese_spaniel', 39: 'Kerry_blue_terrier', 40: 'Labrador_retriever', 41: 'Lakeland_terrier', 42: 'Leonberg', 43: 'Lhasa', 44: 'Maltese_dog', 45: 'Mexican_hairless', 46: 'Newfoundland', 47: 'Norfolk_terrier', 48: 'Norwegian_elkhound', 49: 'Norwich_terrier', 50: 'Old_English_sheepdog', 51: 'Pekinese', 52: 'Pembroke', 53: 'Pomeranian', 54: 'Rhodesian_ridgeback', 55: 'Rottweiler', 56: 'Saint_Bernard', 57: 'Saluki', 58: 'Samoyed', 59: 'Scotch_terrier', 60: 'Scottish_deerhound', 61: 'Sealyham_terrier', 62: 'Shetland_sheepdog', 63: 'Shih', 64: 'Siberian_husky', 65: 'Staffordshire_bullterrier', 66: 'Sussex_spaniel', 67: 'Tibetan_mastiff', 68: 'Tibetan_terrier', 69: 'Walker_hound', 70: 'Weimaraner', 71: 'Welsh_springer_spaniel', 72: 'West_Highland_white_terrier', 73: 'Yorkshire_terrier', 74: 'affenpinscher', 75: 'basenji', 76: 'basset', 77: 'beagle', 78: 'black', 79: 'bloodhound', 80: 'bluetick', 81: 'borzoi', 82: 'boxer', 83: 'briard', 84: 'bull_mastiff', 85: 'cairn', 86: 'chow', 87: 'clumber', 88: 'cocker_spaniel', 89: 'collie', 90: 'curly', 91: 'dhole', 92: 'dingo', 93: 'flat', 94: 'giant_schnauzer', 95: 'golden_retriever', 96: 'groenendael', 97: 'keeshond', 98: 'kelpie', 99: 'komondor', 100: 'kuvasz', 101: 'malamute', 102: 'malinois', 103: 'miniature_pinscher', 104: 'miniature_poodle', 105: 'miniature_schnauzer', 106: 'otterhound', 107: 'papillon', 108: 'pug', 109: 'redbone', 110: 'schipperke', 111: 'silky_terrier', 112: 'soft', 113: 'standard_poodle', 114: 'standard_schnauzer', 115: 'toy_poodle', 116: 'toy_terrier', 117: 'vizsla', 118: 'whippet', 119: 'wire'}\n",
      "--------------------------------------------------\n"
     ]
    }
   ],
   "source": [
    "print(\"Memulai pra-pemrosesan data gambar...\")\n",
    "\n",
    "# Kumpulkan semua path gambar dan label (nama ras)\n",
    "image_paths = []\n",
    "labels = []\n",
    "\n",
    "# Iterasi melalui setiap folder ras anjing di dalam path_ke_gambar\n",
    "for breed_folder in os.listdir(path_ke_gambar):\n",
    "    breed_path = os.path.join(path_ke_gambar, breed_folder)\n",
    "    if os.path.isdir(breed_path): # Pastikan ini adalah folder, bukan file lain\n",
    "        # Nama ras ada setelah kode numerik, misal: 'n02085620-Chihuahua' -> 'Chihuahua'\n",
    "        breed_name = breed_folder.split('-')[1]\n",
    "        for img_name in os.listdir(breed_path):\n",
    "            image_paths.append(os.path.join(breed_path, img_name))\n",
    "            labels.append(breed_name)\n",
    "\n",
    "# Buat DataFrame dari path dan label untuk memudahkan manajemen data\n",
    "df = pd.DataFrame({'path': image_paths, 'label': labels})\n",
    "print(f\"Total gambar yang ditemukan: {len(df)}\")\n",
    "print(f\"Jumlah ras anjing unik: {df['label'].nunique()}\")\n",
    "\n",
    "# --- Atur Parameter Gambar dan Batch ---\n",
    "# Ukuran gambar akan diubah menjadi 224x224 piksel, standar untuk banyak model CNN\n",
    "IMG_HEIGHT = 224\n",
    "IMG_WIDTH = 224\n",
    "# Jumlah gambar yang akan diproses sekaligus oleh model dalam satu iterasi pelatihan\n",
    "BATCH_SIZE = 32\n",
    "# Jumlah total kelas (ras anjing) yang akan diklasifikasikan\n",
    "NUM_CLASSES = df['label'].nunique()\n",
    "\n",
    "# --- Bagi Data Menjadi Training dan Testing Set ---\n",
    "# Kita akan membagi data menjadi 80% untuk pelatihan dan 20% untuk pengujian.\n",
    "# 'stratify=df['label']' memastikan bahwa distribusi setiap ras anjing di set pelatihan dan pengujian tetap mirip.\n",
    "train_df, test_df = train_test_split(df, test_size=0.2, stratify=df['label'], random_state=42)\n",
    "\n",
    "print(f\"\\nJumlah gambar untuk training: {len(train_df)}\")\n",
    "print(f\"Jumlah gambar untuk testing: {len(test_df)}\")\n",
    "\n",
    "# --- Konfigurasi Data Augmentasi dan Generator Gambar ---\n",
    "# ImageDataGenerator di Keras sangat powerful untuk:\n",
    "# 1. Normalisasi piksel (mengubah nilai dari 0-255 menjadi 0-1)\n",
    "# 2. Melakukan augmentasi data (rotasi, zoom, flip) pada data training untuk mencegah overfitting.\n",
    "#    Ini menciptakan variasi baru dari gambar yang sudah ada, membuat model lebih robust.\n",
    "# 3. Secara otomatis membuat batch gambar dari direktori atau DataFrame.\n",
    "# 4. Memisahkan sebagian kecil dari data training untuk validasi (`validation_split`).\n",
    "\n",
    "train_datagen = ImageDataGenerator(\n",
    "    rescale=1./255, # Normalisasi piksel\n",
    "    rotation_range=20, # Rotasi gambar hingga 20 derajat\n",
    "    width_shift_range=0.2, # Geser gambar secara horizontal hingga 20% lebar\n",
    "    height_shift_range=0.2, # Geser gambar secara vertikal hingga 20% tinggi\n",
    "    shear_range=0.2, # Transformasi shear\n",
    "    zoom_range=0.2, # Zoom in/out gambar hingga 20%\n",
    "    horizontal_flip=True, # Balik gambar secara horizontal\n",
    "    fill_mode='nearest', # Cara mengisi piksel yang hilang setelah transformasi\n",
    "    validation_split=0.2 # 20% dari 'train_df' akan digunakan sebagai data validasi\n",
    ")\n",
    "\n",
    "# Untuk data testing, kita hanya perlu normalisasi, tidak perlu augmentasi.\n",
    "test_datagen = ImageDataGenerator(rescale=1./255)\n",
    "\n",
    "# Buat generator untuk training, validation, dan testing set dari DataFrame\n",
    "# 'flow_from_dataframe' adalah metode yang cocok karena kita sudah memiliki DataFrame.\n",
    "train_generator = train_datagen.flow_from_dataframe(\n",
    "    dataframe=train_df,\n",
    "    x_col='path', # Kolom di DataFrame yang berisi path ke gambar\n",
    "    y_col='label', # Kolom di DataFrame yang berisi label kelas (nama ras)\n",
    "    target_size=(IMG_HEIGHT, IMG_WIDTH), # Ukuran gambar output\n",
    "    batch_size=BATCH_SIZE, # Jumlah gambar per batch\n",
    "    class_mode='categorical', # Output label sebagai one-hot encoding (misal: [0,0,1,0,...] untuk 3rd class)\n",
    "    subset='training', # Tentukan ini adalah subset 'training' dari split di atas\n",
    "    shuffle=True, # Acak urutan gambar untuk pelatihan agar model tidak bias\n",
    "    seed=42 # Seed untuk reproducibility\n",
    ")\n",
    "\n",
    "validation_generator = train_datagen.flow_from_dataframe(\n",
    "    dataframe=train_df,\n",
    "    x_col='path',\n",
    "    y_col='label',\n",
    "    target_size=(IMG_HEIGHT, IMG_WIDTH),\n",
    "    batch_size=BATCH_SIZE,\n",
    "    class_mode='categorical',\n",
    "    subset='validation', # Tentukan ini adalah subset 'validation'\n",
    "    shuffle=False, # Tidak perlu diacak untuk validasi\n",
    "    seed=42\n",
    ")\n",
    "\n",
    "test_generator = test_datagen.flow_from_dataframe(\n",
    "    dataframe=test_df,\n",
    "    x_col='path',\n",
    "    y_col='label',\n",
    "    target_size=(IMG_HEIGHT, IMG_WIDTH),\n",
    "    batch_size=BATCH_SIZE,\n",
    "    class_mode='categorical',\n",
    "    shuffle=False # PENTING: Jangan acak urutan untuk test set agar prediksi bisa dicocokkan dengan label asli\n",
    ")\n",
    "\n",
    "\n",
    "# 'train_generator.class_indices' menghasilkan mapping nama ras ke indeks (misal: {'Chihuahua': 0, 'Labrador': 1})\n",
    "# Kita balik menjadi indeks ke nama ras (misal: {0: 'Chihuahua', 1: 'Labrador'})\n",
    "class_indices = train_generator.class_indices\n",
    "idx_to_class = {v: k for k, v in class_indices.items()}\n",
    "print(\"\\nMapping kelas (indeks angka ke nama ras):\")\n",
    "print(idx_to_class)\n",
    "\n",
    "print(\"-\" * 50)"
   ]
  },
  {
   "cell_type": "code",
   "execution_count": 7,
   "metadata": {
    "execution": {
     "iopub.execute_input": "2025-06-23T09:18:48.027719Z",
     "iopub.status.busy": "2025-06-23T09:18:48.027463Z",
     "iopub.status.idle": "2025-06-23T09:18:49.096008Z",
     "shell.execute_reply": "2025-06-23T09:18:49.095462Z",
     "shell.execute_reply.started": "2025-06-23T09:18:48.027696Z"
    },
    "trusted": true
   },
   "outputs": [
    {
     "name": "stdout",
     "output_type": "stream",
     "text": [
      "Membangun model CNN dengan Transfer Learning...\n"
     ]
    },
    {
     "data": {
      "text/html": [
       "<pre style=\"white-space:pre;overflow-x:auto;line-height:normal;font-family:Menlo,'DejaVu Sans Mono',consolas,'Courier New',monospace\"><span style=\"font-weight: bold\">Model: \"sequential_4\"</span>\n",
       "</pre>\n"
      ],
      "text/plain": [
       "\u001b[1mModel: \"sequential_4\"\u001b[0m\n"
      ]
     },
     "metadata": {},
     "output_type": "display_data"
    },
    {
     "data": {
      "text/html": [
       "<pre style=\"white-space:pre;overflow-x:auto;line-height:normal;font-family:Menlo,'DejaVu Sans Mono',consolas,'Courier New',monospace\">┏━━━━━━━━━━━━━━━━━━━━━━━━━━━━━━━━━━━━━━┳━━━━━━━━━━━━━━━━━━━━━━━━━━━━━┳━━━━━━━━━━━━━━━━━┓\n",
       "┃<span style=\"font-weight: bold\"> Layer (type)                         </span>┃<span style=\"font-weight: bold\"> Output Shape                </span>┃<span style=\"font-weight: bold\">         Param # </span>┃\n",
       "┡━━━━━━━━━━━━━━━━━━━━━━━━━━━━━━━━━━━━━━╇━━━━━━━━━━━━━━━━━━━━━━━━━━━━━╇━━━━━━━━━━━━━━━━━┩\n",
       "│ resnet50v2 (<span style=\"color: #0087ff; text-decoration-color: #0087ff\">Functional</span>)              │ (<span style=\"color: #00d7ff; text-decoration-color: #00d7ff\">None</span>, <span style=\"color: #00af00; text-decoration-color: #00af00\">7</span>, <span style=\"color: #00af00; text-decoration-color: #00af00\">7</span>, <span style=\"color: #00af00; text-decoration-color: #00af00\">2048</span>)          │      <span style=\"color: #00af00; text-decoration-color: #00af00\">23,564,800</span> │\n",
       "├──────────────────────────────────────┼─────────────────────────────┼─────────────────┤\n",
       "│ flatten_4 (<span style=\"color: #0087ff; text-decoration-color: #0087ff\">Flatten</span>)                  │ (<span style=\"color: #00d7ff; text-decoration-color: #00d7ff\">None</span>, <span style=\"color: #00af00; text-decoration-color: #00af00\">100352</span>)              │               <span style=\"color: #00af00; text-decoration-color: #00af00\">0</span> │\n",
       "├──────────────────────────────────────┼─────────────────────────────┼─────────────────┤\n",
       "│ dense_8 (<span style=\"color: #0087ff; text-decoration-color: #0087ff\">Dense</span>)                      │ (<span style=\"color: #00d7ff; text-decoration-color: #00d7ff\">None</span>, <span style=\"color: #00af00; text-decoration-color: #00af00\">512</span>)                 │      <span style=\"color: #00af00; text-decoration-color: #00af00\">51,380,736</span> │\n",
       "├──────────────────────────────────────┼─────────────────────────────┼─────────────────┤\n",
       "│ batch_normalization_4                │ (<span style=\"color: #00d7ff; text-decoration-color: #00d7ff\">None</span>, <span style=\"color: #00af00; text-decoration-color: #00af00\">512</span>)                 │           <span style=\"color: #00af00; text-decoration-color: #00af00\">2,048</span> │\n",
       "│ (<span style=\"color: #0087ff; text-decoration-color: #0087ff\">BatchNormalization</span>)                 │                             │                 │\n",
       "├──────────────────────────────────────┼─────────────────────────────┼─────────────────┤\n",
       "│ dropout_4 (<span style=\"color: #0087ff; text-decoration-color: #0087ff\">Dropout</span>)                  │ (<span style=\"color: #00d7ff; text-decoration-color: #00d7ff\">None</span>, <span style=\"color: #00af00; text-decoration-color: #00af00\">512</span>)                 │               <span style=\"color: #00af00; text-decoration-color: #00af00\">0</span> │\n",
       "├──────────────────────────────────────┼─────────────────────────────┼─────────────────┤\n",
       "│ dense_9 (<span style=\"color: #0087ff; text-decoration-color: #0087ff\">Dense</span>)                      │ (<span style=\"color: #00d7ff; text-decoration-color: #00d7ff\">None</span>, <span style=\"color: #00af00; text-decoration-color: #00af00\">120</span>)                 │          <span style=\"color: #00af00; text-decoration-color: #00af00\">61,560</span> │\n",
       "└──────────────────────────────────────┴─────────────────────────────┴─────────────────┘\n",
       "</pre>\n"
      ],
      "text/plain": [
       "┏━━━━━━━━━━━━━━━━━━━━━━━━━━━━━━━━━━━━━━┳━━━━━━━━━━━━━━━━━━━━━━━━━━━━━┳━━━━━━━━━━━━━━━━━┓\n",
       "┃\u001b[1m \u001b[0m\u001b[1mLayer (type)                        \u001b[0m\u001b[1m \u001b[0m┃\u001b[1m \u001b[0m\u001b[1mOutput Shape               \u001b[0m\u001b[1m \u001b[0m┃\u001b[1m \u001b[0m\u001b[1m        Param #\u001b[0m\u001b[1m \u001b[0m┃\n",
       "┡━━━━━━━━━━━━━━━━━━━━━━━━━━━━━━━━━━━━━━╇━━━━━━━━━━━━━━━━━━━━━━━━━━━━━╇━━━━━━━━━━━━━━━━━┩\n",
       "│ resnet50v2 (\u001b[38;5;33mFunctional\u001b[0m)              │ (\u001b[38;5;45mNone\u001b[0m, \u001b[38;5;34m7\u001b[0m, \u001b[38;5;34m7\u001b[0m, \u001b[38;5;34m2048\u001b[0m)          │      \u001b[38;5;34m23,564,800\u001b[0m │\n",
       "├──────────────────────────────────────┼─────────────────────────────┼─────────────────┤\n",
       "│ flatten_4 (\u001b[38;5;33mFlatten\u001b[0m)                  │ (\u001b[38;5;45mNone\u001b[0m, \u001b[38;5;34m100352\u001b[0m)              │               \u001b[38;5;34m0\u001b[0m │\n",
       "├──────────────────────────────────────┼─────────────────────────────┼─────────────────┤\n",
       "│ dense_8 (\u001b[38;5;33mDense\u001b[0m)                      │ (\u001b[38;5;45mNone\u001b[0m, \u001b[38;5;34m512\u001b[0m)                 │      \u001b[38;5;34m51,380,736\u001b[0m │\n",
       "├──────────────────────────────────────┼─────────────────────────────┼─────────────────┤\n",
       "│ batch_normalization_4                │ (\u001b[38;5;45mNone\u001b[0m, \u001b[38;5;34m512\u001b[0m)                 │           \u001b[38;5;34m2,048\u001b[0m │\n",
       "│ (\u001b[38;5;33mBatchNormalization\u001b[0m)                 │                             │                 │\n",
       "├──────────────────────────────────────┼─────────────────────────────┼─────────────────┤\n",
       "│ dropout_4 (\u001b[38;5;33mDropout\u001b[0m)                  │ (\u001b[38;5;45mNone\u001b[0m, \u001b[38;5;34m512\u001b[0m)                 │               \u001b[38;5;34m0\u001b[0m │\n",
       "├──────────────────────────────────────┼─────────────────────────────┼─────────────────┤\n",
       "│ dense_9 (\u001b[38;5;33mDense\u001b[0m)                      │ (\u001b[38;5;45mNone\u001b[0m, \u001b[38;5;34m120\u001b[0m)                 │          \u001b[38;5;34m61,560\u001b[0m │\n",
       "└──────────────────────────────────────┴─────────────────────────────┴─────────────────┘\n"
      ]
     },
     "metadata": {},
     "output_type": "display_data"
    },
    {
     "data": {
      "text/html": [
       "<pre style=\"white-space:pre;overflow-x:auto;line-height:normal;font-family:Menlo,'DejaVu Sans Mono',consolas,'Courier New',monospace\"><span style=\"font-weight: bold\"> Total params: </span><span style=\"color: #00af00; text-decoration-color: #00af00\">75,009,144</span> (286.14 MB)\n",
       "</pre>\n"
      ],
      "text/plain": [
       "\u001b[1m Total params: \u001b[0m\u001b[38;5;34m75,009,144\u001b[0m (286.14 MB)\n"
      ]
     },
     "metadata": {},
     "output_type": "display_data"
    },
    {
     "data": {
      "text/html": [
       "<pre style=\"white-space:pre;overflow-x:auto;line-height:normal;font-family:Menlo,'DejaVu Sans Mono',consolas,'Courier New',monospace\"><span style=\"font-weight: bold\"> Trainable params: </span><span style=\"color: #00af00; text-decoration-color: #00af00\">51,443,320</span> (196.24 MB)\n",
       "</pre>\n"
      ],
      "text/plain": [
       "\u001b[1m Trainable params: \u001b[0m\u001b[38;5;34m51,443,320\u001b[0m (196.24 MB)\n"
      ]
     },
     "metadata": {},
     "output_type": "display_data"
    },
    {
     "data": {
      "text/html": [
       "<pre style=\"white-space:pre;overflow-x:auto;line-height:normal;font-family:Menlo,'DejaVu Sans Mono',consolas,'Courier New',monospace\"><span style=\"font-weight: bold\"> Non-trainable params: </span><span style=\"color: #00af00; text-decoration-color: #00af00\">23,565,824</span> (89.90 MB)\n",
       "</pre>\n"
      ],
      "text/plain": [
       "\u001b[1m Non-trainable params: \u001b[0m\u001b[38;5;34m23,565,824\u001b[0m (89.90 MB)\n"
      ]
     },
     "metadata": {},
     "output_type": "display_data"
    },
    {
     "name": "stdout",
     "output_type": "stream",
     "text": [
      "--------------------------------------------------\n"
     ]
    }
   ],
   "source": [
    "print(\"Membangun model CNN dengan Transfer Learning...\")\n",
    "\n",
    "# --- Pilih Model Dasar Pra-terlatih ---\n",
    "# ResNet50V2 adalah pilihan yang kuat. Anda juga bisa mencoba MobileNetV2 atau EfficientNetB0.\n",
    "# 'weights='imagenet'' berarti kita menggunakan bobot yang sudah dilatih pada dataset ImageNet (dataset besar).\n",
    "# 'include_top=False' berarti kita tidak menyertakan lapisan klasifikasi terakhir dari model asli,\n",
    "# karena kita akan menambahkan lapisan klasifikasi kita sendiri yang sesuai dengan jumlah ras anjing kita.\n",
    "# 'input_shape' harus sama dengan ukuran gambar kita (224x224x3 untuk gambar RGB).\n",
    "base_model = ResNet50V2(weights='imagenet', include_top=False, input_shape=(IMG_HEIGHT, IMG_WIDTH, 3))\n",
    "\n",
    "# --- Bekukan Lapisan Dasar ---\n",
    "# Dengan membekukan lapisan dasar, bobot dari model pra-terlatih tidak akan berubah selama pelatihan awal.\n",
    "# Ini melindungi fitur-fitur yang sangat baik yang sudah dipelajari model dari ImageNet.\n",
    "for layer in base_model.layers:\n",
    "    layer.trainable = False\n",
    "\n",
    "# --- Bangun Model di Atas Model Dasar ---\n",
    "# Kita akan menambahkan lapisan klasifikasi kustom di atas 'base_model'.\n",
    "model = Sequential([\n",
    "    base_model, # Ini adalah model ResNet50V2 yang sudah dibekukan\n",
    "    Flatten(), # Mengubah output 2D/3D dari 'base_model' menjadi 1D agar bisa masuk ke Dense layer\n",
    "    Dense(512, activation='relu'), # Lapisan Dense (Fully Connected) dengan 512 neuron dan fungsi aktivasi ReLU\n",
    "    BatchNormalization(), # Normalisasi batch untuk stabilitas pelatihan dan mempercepat konvergensi\n",
    "    Dropout(0.5), # Dropout (50%) untuk mencegah overfitting dengan mematikan sebagian neuron secara acak\n",
    "    Dense(NUM_CLASSES, activation='softmax') # Lapisan output dengan jumlah neuron = jumlah kelas ras anjing.\n",
    "                                            # 'softmax' mengeluarkan probabilitas untuk setiap kelas, totalnya 1.\n",
    "])\n",
    "\n",
    "# --- Kompilasi Model ---\n",
    "# Kompilasi adalah langkah untuk mengonfigurasi model untuk pelatihan.\n",
    "# 'optimizer=Adam(learning_rate=0.0001)': Adam adalah optimizer yang populer. Learning rate kecil disarankan untuk Transfer Learning.\n",
    "# 'loss='categorical_crossentropy'': Fungsi loss untuk masalah klasifikasi multi-kelas (karena label kita one-hot encoded).\n",
    "# 'metrics=['accuracy']': Metrik yang akan dipantau selama pelatihan dan evaluasi (akurasi).\n",
    "model.compile(optimizer=Adam(learning_rate=0.0001),\n",
    "              loss='categorical_crossentropy',\n",
    "              metrics=['accuracy'])\n",
    "\n",
    "# Tampilkan ringkasan arsitektur model Anda\n",
    "model.summary()\n",
    "\n",
    "print(\"-\" * 50)"
   ]
  },
  {
   "cell_type": "code",
   "execution_count": 9,
   "metadata": {
    "execution": {
     "iopub.execute_input": "2025-06-23T09:20:24.979363Z",
     "iopub.status.busy": "2025-06-23T09:20:24.978726Z",
     "iopub.status.idle": "2025-06-23T09:20:24.984526Z",
     "shell.execute_reply": "2025-06-23T09:20:24.983803Z",
     "shell.execute_reply.started": "2025-06-23T09:20:24.979339Z"
    },
    "trusted": true
   },
   "outputs": [
    {
     "name": "stdout",
     "output_type": "stream",
     "text": [
      "--- Menyiapkan callbacks pelatihan ---\n",
      "Callbacks berhasil disiapkan.\n",
      "--------------------------------------------------\n"
     ]
    }
   ],
   "source": [
    "print(\"--- Menyiapkan callbacks pelatihan ---\")\n",
    "\n",
    "# --- 4.1: Early Stopping ---\n",
    "early_stopping = EarlyStopping(\n",
    "    monitor='val_loss',\n",
    "    patience=10,\n",
    "    restore_best_weights=True\n",
    ")\n",
    "\n",
    "# --- 4.2: ReduceLROnPlateau ---\n",
    "reduce_lr = ReduceLROnPlateau(\n",
    "    monitor='val_accuracy',\n",
    "    factor=0.5,\n",
    "    patience=5,\n",
    "    min_lr=0.00001,\n",
    "    verbose=1\n",
    ")\n",
    "\n",
    "# --- 4.3: Model Checkpoint ---\n",
    "checkpoint_path = \"best_dog_breed_classifier.keras\"\n",
    "model_checkpoint = ModelCheckpoint(\n",
    "    filepath=checkpoint_path,\n",
    "    monitor='val_accuracy',\n",
    "    save_best_only=True,\n",
    "    mode='max',\n",
    "    verbose=1\n",
    ")\n",
    "\n",
    "# Kumpulkan semua callbacks\n",
    "callbacks = [early_stopping, reduce_lr, model_checkpoint]\n",
    "\n",
    "print(\"Callbacks berhasil disiapkan.\")\n",
    "print(\"-\" * 50)"
   ]
  },
  {
   "cell_type": "code",
   "execution_count": 10,
   "metadata": {
    "execution": {
     "iopub.execute_input": "2025-06-23T09:20:42.742540Z",
     "iopub.status.busy": "2025-06-23T09:20:42.742256Z",
     "iopub.status.idle": "2025-06-23T11:08:20.925853Z",
     "shell.execute_reply": "2025-06-23T11:08:20.925019Z",
     "shell.execute_reply.started": "2025-06-23T09:20:42.742521Z"
    },
    "trusted": true
   },
   "outputs": [
    {
     "name": "stdout",
     "output_type": "stream",
     "text": [
      "--- Memulai pelatihan model ---\n"
     ]
    },
    {
     "name": "stderr",
     "output_type": "stream",
     "text": [
      "/usr/local/lib/python3.11/dist-packages/keras/src/trainers/data_adapters/py_dataset_adapter.py:121: UserWarning: Your `PyDataset` class should call `super().__init__(**kwargs)` in its constructor. `**kwargs` can include `workers`, `use_multiprocessing`, `max_queue_size`. Do not pass these arguments to `fit()`, as they will be ignored.\n",
      "  self._warn_if_super_not_called()\n"
     ]
    },
    {
     "name": "stdout",
     "output_type": "stream",
     "text": [
      "Epoch 1/50\n"
     ]
    },
    {
     "name": "stderr",
     "output_type": "stream",
     "text": [
      "WARNING: All log messages before absl::InitializeLog() is called are written to STDERR\n",
      "I0000 00:00:1750670455.229997     100 service.cc:148] XLA service 0x78fb440108f0 initialized for platform CUDA (this does not guarantee that XLA will be used). Devices:\n",
      "I0000 00:00:1750670455.236104     100 service.cc:156]   StreamExecutor device (0): Tesla T4, Compute Capability 7.5\n",
      "I0000 00:00:1750670455.236128     100 service.cc:156]   StreamExecutor device (1): Tesla T4, Compute Capability 7.5\n",
      "I0000 00:00:1750670456.884459     100 cuda_dnn.cc:529] Loaded cuDNN version 90300\n"
     ]
    },
    {
     "name": "stdout",
     "output_type": "stream",
     "text": [
      "\u001b[1m  2/412\u001b[0m \u001b[37m━━━━━━━━━━━━━━━━━━━━\u001b[0m \u001b[1m29s\u001b[0m 72ms/step - accuracy: 0.0000e+00 - loss: 6.4457   "
     ]
    },
    {
     "name": "stderr",
     "output_type": "stream",
     "text": [
      "I0000 00:00:1750670465.349623     100 device_compiler.h:188] Compiled cluster using XLA!  This line is logged at most once for the lifetime of the process.\n"
     ]
    },
    {
     "name": "stdout",
     "output_type": "stream",
     "text": [
      "\u001b[1m412/412\u001b[0m \u001b[32m━━━━━━━━━━━━━━━━━━━━\u001b[0m\u001b[37m\u001b[0m \u001b[1m0s\u001b[0m 601ms/step - accuracy: 0.2642 - loss: 3.4966\n",
      "Epoch 1: val_accuracy improved from -inf to 0.56318, saving model to best_dog_breed_classifier.keras\n",
      "\u001b[1m412/412\u001b[0m \u001b[32m━━━━━━━━━━━━━━━━━━━━\u001b[0m\u001b[37m\u001b[0m \u001b[1m347s\u001b[0m 793ms/step - accuracy: 0.2645 - loss: 3.4946 - val_accuracy: 0.5632 - val_loss: 1.5699 - learning_rate: 1.0000e-04\n",
      "Epoch 2/50\n",
      "\u001b[1m412/412\u001b[0m \u001b[32m━━━━━━━━━━━━━━━━━━━━\u001b[0m\u001b[37m\u001b[0m \u001b[1m0s\u001b[0m 445ms/step - accuracy: 0.5483 - loss: 1.7170\n",
      "Epoch 2: val_accuracy improved from 0.56318 to 0.61087, saving model to best_dog_breed_classifier.keras\n",
      "\u001b[1m412/412\u001b[0m \u001b[32m━━━━━━━━━━━━━━━━━━━━\u001b[0m\u001b[37m\u001b[0m \u001b[1m238s\u001b[0m 578ms/step - accuracy: 0.5484 - loss: 1.7169 - val_accuracy: 0.6109 - val_loss: 1.3937 - learning_rate: 1.0000e-04\n",
      "Epoch 3/50\n",
      "\u001b[1m412/412\u001b[0m \u001b[32m━━━━━━━━━━━━━━━━━━━━\u001b[0m\u001b[37m\u001b[0m \u001b[1m0s\u001b[0m 443ms/step - accuracy: 0.6037 - loss: 1.4598\n",
      "Epoch 3: val_accuracy improved from 0.61087 to 0.63457, saving model to best_dog_breed_classifier.keras\n",
      "\u001b[1m412/412\u001b[0m \u001b[32m━━━━━━━━━━━━━━━━━━━━\u001b[0m\u001b[37m\u001b[0m \u001b[1m229s\u001b[0m 556ms/step - accuracy: 0.6037 - loss: 1.4597 - val_accuracy: 0.6346 - val_loss: 1.3295 - learning_rate: 1.0000e-04\n",
      "Epoch 4/50\n",
      "\u001b[1m412/412\u001b[0m \u001b[32m━━━━━━━━━━━━━━━━━━━━\u001b[0m\u001b[37m\u001b[0m \u001b[1m0s\u001b[0m 417ms/step - accuracy: 0.6417 - loss: 1.2926\n",
      "Epoch 4: val_accuracy improved from 0.63457 to 0.64064, saving model to best_dog_breed_classifier.keras\n",
      "\u001b[1m412/412\u001b[0m \u001b[32m━━━━━━━━━━━━━━━━━━━━\u001b[0m\u001b[37m\u001b[0m \u001b[1m217s\u001b[0m 527ms/step - accuracy: 0.6417 - loss: 1.2927 - val_accuracy: 0.6406 - val_loss: 1.2655 - learning_rate: 1.0000e-04\n",
      "Epoch 5/50\n",
      "\u001b[1m412/412\u001b[0m \u001b[32m━━━━━━━━━━━━━━━━━━━━\u001b[0m\u001b[37m\u001b[0m \u001b[1m0s\u001b[0m 401ms/step - accuracy: 0.6620 - loss: 1.2134\n",
      "Epoch 5: val_accuracy improved from 0.64064 to 0.65310, saving model to best_dog_breed_classifier.keras\n",
      "\u001b[1m412/412\u001b[0m \u001b[32m━━━━━━━━━━━━━━━━━━━━\u001b[0m\u001b[37m\u001b[0m \u001b[1m211s\u001b[0m 511ms/step - accuracy: 0.6620 - loss: 1.2134 - val_accuracy: 0.6531 - val_loss: 1.2366 - learning_rate: 1.0000e-04\n",
      "Epoch 6/50\n",
      "\u001b[1m412/412\u001b[0m \u001b[32m━━━━━━━━━━━━━━━━━━━━\u001b[0m\u001b[37m\u001b[0m \u001b[1m0s\u001b[0m 425ms/step - accuracy: 0.6812 - loss: 1.1250\n",
      "Epoch 6: val_accuracy did not improve from 0.65310\n",
      "\u001b[1m412/412\u001b[0m \u001b[32m━━━━━━━━━━━━━━━━━━━━\u001b[0m\u001b[37m\u001b[0m \u001b[1m216s\u001b[0m 525ms/step - accuracy: 0.6811 - loss: 1.1250 - val_accuracy: 0.6495 - val_loss: 1.2521 - learning_rate: 1.0000e-04\n",
      "Epoch 7/50\n",
      "\u001b[1m412/412\u001b[0m \u001b[32m━━━━━━━━━━━━━━━━━━━━\u001b[0m\u001b[37m\u001b[0m \u001b[1m0s\u001b[0m 415ms/step - accuracy: 0.7009 - loss: 1.0435\n",
      "Epoch 7: val_accuracy improved from 0.65310 to 0.65796, saving model to best_dog_breed_classifier.keras\n",
      "\u001b[1m412/412\u001b[0m \u001b[32m━━━━━━━━━━━━━━━━━━━━\u001b[0m\u001b[37m\u001b[0m \u001b[1m220s\u001b[0m 533ms/step - accuracy: 0.7009 - loss: 1.0436 - val_accuracy: 0.6580 - val_loss: 1.2151 - learning_rate: 1.0000e-04\n",
      "Epoch 8/50\n",
      "\u001b[1m412/412\u001b[0m \u001b[32m━━━━━━━━━━━━━━━━━━━━\u001b[0m\u001b[37m\u001b[0m \u001b[1m0s\u001b[0m 422ms/step - accuracy: 0.7077 - loss: 1.0052\n",
      "Epoch 8: val_accuracy did not improve from 0.65796\n",
      "\u001b[1m412/412\u001b[0m \u001b[32m━━━━━━━━━━━━━━━━━━━━\u001b[0m\u001b[37m\u001b[0m \u001b[1m216s\u001b[0m 524ms/step - accuracy: 0.7077 - loss: 1.0052 - val_accuracy: 0.6564 - val_loss: 1.2301 - learning_rate: 1.0000e-04\n",
      "Epoch 9/50\n",
      "\u001b[1m412/412\u001b[0m \u001b[32m━━━━━━━━━━━━━━━━━━━━\u001b[0m\u001b[37m\u001b[0m \u001b[1m0s\u001b[0m 417ms/step - accuracy: 0.7131 - loss: 0.9859\n",
      "Epoch 9: val_accuracy improved from 0.65796 to 0.66160, saving model to best_dog_breed_classifier.keras\n",
      "\u001b[1m412/412\u001b[0m \u001b[32m━━━━━━━━━━━━━━━━━━━━\u001b[0m\u001b[37m\u001b[0m \u001b[1m218s\u001b[0m 528ms/step - accuracy: 0.7131 - loss: 0.9859 - val_accuracy: 0.6616 - val_loss: 1.2108 - learning_rate: 1.0000e-04\n",
      "Epoch 10/50\n",
      "\u001b[1m412/412\u001b[0m \u001b[32m━━━━━━━━━━━━━━━━━━━━\u001b[0m\u001b[37m\u001b[0m \u001b[1m0s\u001b[0m 401ms/step - accuracy: 0.7302 - loss: 0.9204\n",
      "Epoch 10: val_accuracy improved from 0.66160 to 0.66768, saving model to best_dog_breed_classifier.keras\n",
      "\u001b[1m412/412\u001b[0m \u001b[32m━━━━━━━━━━━━━━━━━━━━\u001b[0m\u001b[37m\u001b[0m \u001b[1m217s\u001b[0m 526ms/step - accuracy: 0.7302 - loss: 0.9205 - val_accuracy: 0.6677 - val_loss: 1.1985 - learning_rate: 1.0000e-04\n",
      "Epoch 11/50\n",
      "\u001b[1m412/412\u001b[0m \u001b[32m━━━━━━━━━━━━━━━━━━━━\u001b[0m\u001b[37m\u001b[0m \u001b[1m0s\u001b[0m 408ms/step - accuracy: 0.7387 - loss: 0.8768\n",
      "Epoch 11: val_accuracy did not improve from 0.66768\n",
      "\u001b[1m412/412\u001b[0m \u001b[32m━━━━━━━━━━━━━━━━━━━━\u001b[0m\u001b[37m\u001b[0m \u001b[1m209s\u001b[0m 508ms/step - accuracy: 0.7387 - loss: 0.8769 - val_accuracy: 0.6662 - val_loss: 1.1965 - learning_rate: 1.0000e-04\n",
      "Epoch 12/50\n",
      "\u001b[1m412/412\u001b[0m \u001b[32m━━━━━━━━━━━━━━━━━━━━\u001b[0m\u001b[37m\u001b[0m \u001b[1m0s\u001b[0m 400ms/step - accuracy: 0.7410 - loss: 0.8730\n",
      "Epoch 12: val_accuracy did not improve from 0.66768\n",
      "\u001b[1m412/412\u001b[0m \u001b[32m━━━━━━━━━━━━━━━━━━━━\u001b[0m\u001b[37m\u001b[0m \u001b[1m205s\u001b[0m 498ms/step - accuracy: 0.7410 - loss: 0.8730 - val_accuracy: 0.6668 - val_loss: 1.1824 - learning_rate: 1.0000e-04\n",
      "Epoch 13/50\n",
      "\u001b[1m412/412\u001b[0m \u001b[32m━━━━━━━━━━━━━━━━━━━━\u001b[0m\u001b[37m\u001b[0m \u001b[1m0s\u001b[0m 411ms/step - accuracy: 0.7584 - loss: 0.8049\n",
      "Epoch 13: val_accuracy did not improve from 0.66768\n",
      "\u001b[1m412/412\u001b[0m \u001b[32m━━━━━━━━━━━━━━━━━━━━\u001b[0m\u001b[37m\u001b[0m \u001b[1m213s\u001b[0m 517ms/step - accuracy: 0.7584 - loss: 0.8050 - val_accuracy: 0.6637 - val_loss: 1.2254 - learning_rate: 1.0000e-04\n",
      "Epoch 14/50\n",
      "\u001b[1m412/412\u001b[0m \u001b[32m━━━━━━━━━━━━━━━━━━━━\u001b[0m\u001b[37m\u001b[0m \u001b[1m0s\u001b[0m 414ms/step - accuracy: 0.7572 - loss: 0.8193\n",
      "Epoch 14: val_accuracy did not improve from 0.66768\n",
      "\u001b[1m412/412\u001b[0m \u001b[32m━━━━━━━━━━━━━━━━━━━━\u001b[0m\u001b[37m\u001b[0m \u001b[1m215s\u001b[0m 523ms/step - accuracy: 0.7572 - loss: 0.8194 - val_accuracy: 0.6631 - val_loss: 1.1690 - learning_rate: 1.0000e-04\n",
      "Epoch 15/50\n",
      "\u001b[1m412/412\u001b[0m \u001b[32m━━━━━━━━━━━━━━━━━━━━\u001b[0m\u001b[37m\u001b[0m \u001b[1m0s\u001b[0m 422ms/step - accuracy: 0.7683 - loss: 0.7775\n",
      "Epoch 15: val_accuracy improved from 0.66768 to 0.66981, saving model to best_dog_breed_classifier.keras\n",
      "\u001b[1m412/412\u001b[0m \u001b[32m━━━━━━━━━━━━━━━━━━━━\u001b[0m\u001b[37m\u001b[0m \u001b[1m221s\u001b[0m 537ms/step - accuracy: 0.7683 - loss: 0.7776 - val_accuracy: 0.6698 - val_loss: 1.1964 - learning_rate: 1.0000e-04\n",
      "Epoch 16/50\n",
      "\u001b[1m412/412\u001b[0m \u001b[32m━━━━━━━━━━━━━━━━━━━━\u001b[0m\u001b[37m\u001b[0m \u001b[1m0s\u001b[0m 401ms/step - accuracy: 0.7685 - loss: 0.7732\n",
      "Epoch 16: val_accuracy improved from 0.66981 to 0.67618, saving model to best_dog_breed_classifier.keras\n",
      "\u001b[1m412/412\u001b[0m \u001b[32m━━━━━━━━━━━━━━━━━━━━\u001b[0m\u001b[37m\u001b[0m \u001b[1m211s\u001b[0m 512ms/step - accuracy: 0.7685 - loss: 0.7733 - val_accuracy: 0.6762 - val_loss: 1.1672 - learning_rate: 1.0000e-04\n",
      "Epoch 17/50\n",
      "\u001b[1m412/412\u001b[0m \u001b[32m━━━━━━━━━━━━━━━━━━━━\u001b[0m\u001b[37m\u001b[0m \u001b[1m0s\u001b[0m 423ms/step - accuracy: 0.7769 - loss: 0.7360\n",
      "Epoch 17: val_accuracy did not improve from 0.67618\n",
      "\u001b[1m412/412\u001b[0m \u001b[32m━━━━━━━━━━━━━━━━━━━━\u001b[0m\u001b[37m\u001b[0m \u001b[1m216s\u001b[0m 525ms/step - accuracy: 0.7769 - loss: 0.7360 - val_accuracy: 0.6674 - val_loss: 1.1857 - learning_rate: 1.0000e-04\n",
      "Epoch 18/50\n",
      "\u001b[1m412/412\u001b[0m \u001b[32m━━━━━━━━━━━━━━━━━━━━\u001b[0m\u001b[37m\u001b[0m \u001b[1m0s\u001b[0m 425ms/step - accuracy: 0.7805 - loss: 0.7226\n",
      "Epoch 18: val_accuracy did not improve from 0.67618\n",
      "\u001b[1m412/412\u001b[0m \u001b[32m━━━━━━━━━━━━━━━━━━━━\u001b[0m\u001b[37m\u001b[0m \u001b[1m218s\u001b[0m 528ms/step - accuracy: 0.7805 - loss: 0.7227 - val_accuracy: 0.6701 - val_loss: 1.1930 - learning_rate: 1.0000e-04\n",
      "Epoch 19/50\n",
      "\u001b[1m412/412\u001b[0m \u001b[32m━━━━━━━━━━━━━━━━━━━━\u001b[0m\u001b[37m\u001b[0m \u001b[1m0s\u001b[0m 406ms/step - accuracy: 0.7849 - loss: 0.7082\n",
      "Epoch 19: val_accuracy improved from 0.67618 to 0.67892, saving model to best_dog_breed_classifier.keras\n",
      "\u001b[1m412/412\u001b[0m \u001b[32m━━━━━━━━━━━━━━━━━━━━\u001b[0m\u001b[37m\u001b[0m \u001b[1m216s\u001b[0m 525ms/step - accuracy: 0.7849 - loss: 0.7083 - val_accuracy: 0.6789 - val_loss: 1.1470 - learning_rate: 1.0000e-04\n",
      "Epoch 20/50\n",
      "\u001b[1m412/412\u001b[0m \u001b[32m━━━━━━━━━━━━━━━━━━━━\u001b[0m\u001b[37m\u001b[0m \u001b[1m0s\u001b[0m 453ms/step - accuracy: 0.7947 - loss: 0.6803\n",
      "Epoch 20: val_accuracy did not improve from 0.67892\n",
      "\u001b[1m412/412\u001b[0m \u001b[32m━━━━━━━━━━━━━━━━━━━━\u001b[0m\u001b[37m\u001b[0m \u001b[1m235s\u001b[0m 570ms/step - accuracy: 0.7947 - loss: 0.6803 - val_accuracy: 0.6695 - val_loss: 1.1744 - learning_rate: 1.0000e-04\n",
      "Epoch 21/50\n",
      "\u001b[1m412/412\u001b[0m \u001b[32m━━━━━━━━━━━━━━━━━━━━\u001b[0m\u001b[37m\u001b[0m \u001b[1m0s\u001b[0m 432ms/step - accuracy: 0.7938 - loss: 0.6665\n",
      "Epoch 21: val_accuracy did not improve from 0.67892\n",
      "\u001b[1m412/412\u001b[0m \u001b[32m━━━━━━━━━━━━━━━━━━━━\u001b[0m\u001b[37m\u001b[0m \u001b[1m222s\u001b[0m 539ms/step - accuracy: 0.7938 - loss: 0.6665 - val_accuracy: 0.6668 - val_loss: 1.1815 - learning_rate: 1.0000e-04\n",
      "Epoch 22/50\n",
      "\u001b[1m412/412\u001b[0m \u001b[32m━━━━━━━━━━━━━━━━━━━━\u001b[0m\u001b[37m\u001b[0m \u001b[1m0s\u001b[0m 424ms/step - accuracy: 0.7988 - loss: 0.6585\n",
      "Epoch 22: val_accuracy did not improve from 0.67892\n",
      "\u001b[1m412/412\u001b[0m \u001b[32m━━━━━━━━━━━━━━━━━━━━\u001b[0m\u001b[37m\u001b[0m \u001b[1m218s\u001b[0m 530ms/step - accuracy: 0.7988 - loss: 0.6586 - val_accuracy: 0.6683 - val_loss: 1.2355 - learning_rate: 1.0000e-04\n",
      "Epoch 23/50\n",
      "\u001b[1m412/412\u001b[0m \u001b[32m━━━━━━━━━━━━━━━━━━━━\u001b[0m\u001b[37m\u001b[0m \u001b[1m0s\u001b[0m 428ms/step - accuracy: 0.8067 - loss: 0.6542\n",
      "Epoch 23: val_accuracy did not improve from 0.67892\n",
      "\u001b[1m412/412\u001b[0m \u001b[32m━━━━━━━━━━━━━━━━━━━━\u001b[0m\u001b[37m\u001b[0m \u001b[1m221s\u001b[0m 536ms/step - accuracy: 0.8067 - loss: 0.6543 - val_accuracy: 0.6671 - val_loss: 1.1943 - learning_rate: 1.0000e-04\n",
      "Epoch 24/50\n",
      "\u001b[1m412/412\u001b[0m \u001b[32m━━━━━━━━━━━━━━━━━━━━\u001b[0m\u001b[37m\u001b[0m \u001b[1m0s\u001b[0m 414ms/step - accuracy: 0.8038 - loss: 0.6389\n",
      "Epoch 24: ReduceLROnPlateau reducing learning rate to 4.999999873689376e-05.\n",
      "\n",
      "Epoch 24: val_accuracy did not improve from 0.67892\n",
      "\u001b[1m412/412\u001b[0m \u001b[32m━━━━━━━━━━━━━━━━━━━━\u001b[0m\u001b[37m\u001b[0m \u001b[1m214s\u001b[0m 520ms/step - accuracy: 0.8038 - loss: 0.6389 - val_accuracy: 0.6716 - val_loss: 1.1958 - learning_rate: 1.0000e-04\n",
      "Epoch 25/50\n",
      "\u001b[1m412/412\u001b[0m \u001b[32m━━━━━━━━━━━━━━━━━━━━\u001b[0m\u001b[37m\u001b[0m \u001b[1m0s\u001b[0m 419ms/step - accuracy: 0.8195 - loss: 0.6211\n",
      "Epoch 25: val_accuracy did not improve from 0.67892\n",
      "\u001b[1m412/412\u001b[0m \u001b[32m━━━━━━━━━━━━━━━━━━━━\u001b[0m\u001b[37m\u001b[0m \u001b[1m216s\u001b[0m 525ms/step - accuracy: 0.8195 - loss: 0.6211 - val_accuracy: 0.6783 - val_loss: 1.1915 - learning_rate: 5.0000e-05\n",
      "Epoch 26/50\n",
      "\u001b[1m412/412\u001b[0m \u001b[32m━━━━━━━━━━━━━━━━━━━━\u001b[0m\u001b[37m\u001b[0m \u001b[1m0s\u001b[0m 424ms/step - accuracy: 0.8354 - loss: 0.5462\n",
      "Epoch 26: val_accuracy did not improve from 0.67892\n",
      "\u001b[1m412/412\u001b[0m \u001b[32m━━━━━━━━━━━━━━━━━━━━\u001b[0m\u001b[37m\u001b[0m \u001b[1m218s\u001b[0m 529ms/step - accuracy: 0.8354 - loss: 0.5463 - val_accuracy: 0.6753 - val_loss: 1.1824 - learning_rate: 5.0000e-05\n",
      "Epoch 27/50\n",
      "\u001b[1m412/412\u001b[0m \u001b[32m━━━━━━━━━━━━━━━━━━━━\u001b[0m\u001b[37m\u001b[0m \u001b[1m0s\u001b[0m 424ms/step - accuracy: 0.8369 - loss: 0.5398\n",
      "Epoch 27: val_accuracy did not improve from 0.67892\n",
      "\u001b[1m412/412\u001b[0m \u001b[32m━━━━━━━━━━━━━━━━━━━━\u001b[0m\u001b[37m\u001b[0m \u001b[1m218s\u001b[0m 529ms/step - accuracy: 0.8369 - loss: 0.5398 - val_accuracy: 0.6768 - val_loss: 1.1497 - learning_rate: 5.0000e-05\n",
      "Epoch 28/50\n",
      "\u001b[1m412/412\u001b[0m \u001b[32m━━━━━━━━━━━━━━━━━━━━\u001b[0m\u001b[37m\u001b[0m \u001b[1m0s\u001b[0m 409ms/step - accuracy: 0.8360 - loss: 0.5307\n",
      "Epoch 28: val_accuracy improved from 0.67892 to 0.68682, saving model to best_dog_breed_classifier.keras\n",
      "\u001b[1m412/412\u001b[0m \u001b[32m━━━━━━━━━━━━━━━━━━━━\u001b[0m\u001b[37m\u001b[0m \u001b[1m214s\u001b[0m 518ms/step - accuracy: 0.8360 - loss: 0.5307 - val_accuracy: 0.6868 - val_loss: 1.1560 - learning_rate: 5.0000e-05\n",
      "Epoch 29/50\n",
      "\u001b[1m412/412\u001b[0m \u001b[32m━━━━━━━━━━━━━━━━━━━━\u001b[0m\u001b[37m\u001b[0m \u001b[1m0s\u001b[0m 443ms/step - accuracy: 0.8424 - loss: 0.5196\n",
      "Epoch 29: val_accuracy did not improve from 0.68682\n",
      "\u001b[1m412/412\u001b[0m \u001b[32m━━━━━━━━━━━━━━━━━━━━\u001b[0m\u001b[37m\u001b[0m \u001b[1m226s\u001b[0m 548ms/step - accuracy: 0.8424 - loss: 0.5197 - val_accuracy: 0.6868 - val_loss: 1.1711 - learning_rate: 5.0000e-05\n",
      "Pelatihan model selesai.\n",
      "--------------------------------------------------\n"
     ]
    }
   ],
   "source": [
    "print(\"--- Memulai pelatihan model ---\")\n",
    "\n",
    "EPOCHS = 50 # Jumlah epoch (putaran penuh pada seluruh dataset pelatihan)\n",
    "\n",
    "history = model.fit(\n",
    "    train_generator,       # Data pelatihan\n",
    "    epochs=EPOCHS,         # Jumlah epoch yang akan dijalankan\n",
    "    validation_data=validation_generator, # Data validasi\n",
    "    callbacks=callbacks,   # Gunakan callbacks yang sudah kita siapkan\n",
    "    verbose=1              # Menampilkan progres pelatihan di setiap epoch\n",
    ")\n",
    "\n",
    "print(\"Pelatihan model selesai.\")\n",
    "print(\"-\" * 50)"
   ]
  },
  {
   "cell_type": "code",
   "execution_count": 11,
   "metadata": {
    "execution": {
     "iopub.execute_input": "2025-06-23T11:12:51.217377Z",
     "iopub.status.busy": "2025-06-23T11:12:51.211944Z",
     "iopub.status.idle": "2025-06-23T11:14:11.661548Z",
     "shell.execute_reply": "2025-06-23T11:14:11.660843Z",
     "shell.execute_reply.started": "2025-06-23T11:12:51.217337Z"
    },
    "trusted": true
   },
   "outputs": [
    {
     "name": "stdout",
     "output_type": "stream",
     "text": [
      "--- Memulai evaluasi model ---\n",
      "Berhasil memuat bobot model terbaik dari: best_dog_breed_classifier.keras\n",
      "\u001b[1m129/129\u001b[0m \u001b[32m━━━━━━━━━━━━━━━━━━━━\u001b[0m\u001b[37m\u001b[0m \u001b[1m43s\u001b[0m 333ms/step - accuracy: 0.7345 - loss: 0.9602\n",
      "\n",
      "Hasil Evaluasi pada Data Testing:\n",
      "Test Loss: 0.9669\n",
      "Test Accuracy: 0.7352\n"
     ]
    },
    {
     "data": {
      "image/png": "[encoded data removed]",
      "text/plain": [
       "<Figure size 1200x500 with 2 Axes>"
      ]
     },
     "metadata": {},
     "output_type": "display_data"
    },
    {
     "name": "stdout",
     "output_type": "stream",
     "text": [
      "\n",
      "--- Membuat prediksi pada data testing untuk Laporan Klasifikasi ---\n",
      "\u001b[1m129/129\u001b[0m \u001b[32m━━━━━━━━━━━━━━━━━━━━\u001b[0m\u001b[37m\u001b[0m \u001b[1m21s\u001b[0m 136ms/step\n",
      "\n",
      "Laporan Klasifikasi Detail:\n",
      "                                precision    recall  f1-score   support\n",
      "\n",
      "                  Afghan_hound       0.88      0.88      0.88        48\n",
      "           African_hunting_dog       0.97      1.00      0.99        34\n",
      "                      Airedale       0.68      0.70      0.69        40\n",
      "American_Staffordshire_terrier       0.40      0.48      0.44        33\n",
      "                   Appenzeller       0.50      0.50      0.50        30\n",
      "            Australian_terrier       0.67      0.74      0.71        39\n",
      "            Bedlington_terrier       0.91      0.89      0.90        36\n",
      "          Bernese_mountain_dog       0.77      0.77      0.77        44\n",
      "              Blenheim_spaniel       0.78      0.95      0.86        38\n",
      "                 Border_collie       0.52      0.73      0.61        30\n",
      "                Border_terrier       0.89      0.91      0.90        34\n",
      "                   Boston_bull       0.85      0.78      0.81        36\n",
      "          Bouvier_des_Flandres       0.75      0.70      0.72        30\n",
      "             Brabancon_griffon       0.87      0.84      0.85        31\n",
      "              Brittany_spaniel       0.78      0.83      0.81        30\n",
      "                      Cardigan       0.68      0.48      0.57        31\n",
      "      Chesapeake_Bay_retriever       0.65      0.67      0.66        33\n",
      "                     Chihuahua       0.52      0.53      0.52        30\n",
      "                Dandie_Dinmont       0.87      0.94      0.91        36\n",
      "                      Doberman       0.56      0.77      0.65        30\n",
      "              English_foxhound       0.67      0.69      0.68        32\n",
      "                English_setter       0.88      0.72      0.79        32\n",
      "              English_springer       0.76      0.81      0.79        32\n",
      "                   EntleBucher       0.61      0.62      0.62        40\n",
      "                    Eskimo_dog       0.47      0.30      0.37        30\n",
      "                French_bulldog       0.63      0.75      0.69        32\n",
      "               German_shepherd       0.80      0.67      0.73        30\n",
      "                  German_short       0.75      0.70      0.72        30\n",
      "                 Gordon_setter       0.88      0.71      0.79        31\n",
      "                    Great_Dane       0.85      0.71      0.77        31\n",
      "                Great_Pyrenees       0.53      0.79      0.64        43\n",
      "    Greater_Swiss_Mountain_dog       0.78      0.53      0.63        34\n",
      "                  Ibizan_hound       0.90      0.74      0.81        38\n",
      "                  Irish_setter       0.84      0.68      0.75        31\n",
      "                 Irish_terrier       0.75      0.79      0.77        34\n",
      "           Irish_water_spaniel       0.84      0.90      0.87        30\n",
      "               Irish_wolfhound       0.55      0.70      0.62        44\n",
      "             Italian_greyhound       0.68      0.78      0.73        36\n",
      "              Japanese_spaniel       0.94      0.81      0.87        37\n",
      "            Kerry_blue_terrier       0.84      0.75      0.79        36\n",
      "            Labrador_retriever       0.54      0.59      0.56        34\n",
      "              Lakeland_terrier       0.71      0.64      0.68        39\n",
      "                      Leonberg       0.83      0.95      0.89        42\n",
      "                         Lhasa       0.61      0.46      0.52        37\n",
      "                   Maltese_dog       0.84      0.74      0.79        50\n",
      "              Mexican_hairless       0.90      0.87      0.89        31\n",
      "                  Newfoundland       0.67      0.74      0.71        39\n",
      "               Norfolk_terrier       0.76      0.74      0.75        34\n",
      "            Norwegian_elkhound       0.89      0.87      0.88        39\n",
      "               Norwich_terrier       0.74      0.68      0.70        37\n",
      "          Old_English_sheepdog       0.91      0.88      0.90        34\n",
      "                      Pekinese       0.69      0.67      0.68        30\n",
      "                      Pembroke       0.68      0.72      0.70        36\n",
      "                    Pomeranian       0.91      0.93      0.92        44\n",
      "           Rhodesian_ridgeback       0.48      0.62      0.54        34\n",
      "                    Rottweiler       0.82      0.77      0.79        30\n",
      "                 Saint_Bernard       0.89      0.94      0.91        34\n",
      "                        Saluki       0.85      0.72      0.78        40\n",
      "                       Samoyed       0.79      0.77      0.78        44\n",
      "                Scotch_terrier       0.81      0.81      0.81        32\n",
      "            Scottish_deerhound       0.72      0.83      0.77        46\n",
      "              Sealyham_terrier       0.85      0.88      0.86        40\n",
      "             Shetland_sheepdog       0.78      0.58      0.67        31\n",
      "                          Shih       0.68      0.60      0.64        43\n",
      "                Siberian_husky       0.42      0.56      0.48        39\n",
      "     Staffordshire_bullterrier       0.50      0.42      0.46        31\n",
      "                Sussex_spaniel       0.93      0.87      0.90        30\n",
      "               Tibetan_mastiff       0.95      0.60      0.73        30\n",
      "               Tibetan_terrier       0.71      0.66      0.68        41\n",
      "                  Walker_hound       0.70      0.45      0.55        31\n",
      "                    Weimaraner       0.80      0.88      0.84        32\n",
      "        Welsh_springer_spaniel       0.78      0.60      0.68        30\n",
      "   West_Highland_white_terrier       0.71      0.74      0.72        34\n",
      "             Yorkshire_terrier       0.60      0.64      0.62        33\n",
      "                 affenpinscher       0.80      0.80      0.80        30\n",
      "                       basenji       0.82      0.76      0.79        42\n",
      "                        basset       0.66      0.83      0.73        35\n",
      "                        beagle       0.71      0.69      0.70        39\n",
      "                         black       0.64      0.78      0.70        32\n",
      "                    bloodhound       0.88      0.81      0.85        37\n",
      "                      bluetick       0.76      0.82      0.79        34\n",
      "                        borzoi       0.79      0.77      0.78        30\n",
      "                         boxer       0.65      0.67      0.66        30\n",
      "                        briard       0.73      0.73      0.73        30\n",
      "                  bull_mastiff       0.88      0.71      0.79        31\n",
      "                         cairn       0.70      0.78      0.74        40\n",
      "                          chow       0.89      0.87      0.88        39\n",
      "                       clumber       0.96      0.77      0.85        30\n",
      "                cocker_spaniel       0.79      0.84      0.82        32\n",
      "                        collie       0.59      0.55      0.57        31\n",
      "                         curly       0.75      0.90      0.82        30\n",
      "                         dhole       0.90      0.90      0.90        30\n",
      "                         dingo       0.80      0.77      0.79        31\n",
      "                          flat       0.79      0.73      0.76        30\n",
      "               giant_schnauzer       0.49      0.61      0.54        31\n",
      "              golden_retriever       0.78      0.60      0.68        30\n",
      "                   groenendael       0.93      0.87      0.90        30\n",
      "                      keeshond       0.97      0.97      0.97        32\n",
      "                        kelpie       0.73      0.61      0.67        31\n",
      "                      komondor       0.93      0.90      0.92        31\n",
      "                        kuvasz       0.83      0.50      0.62        30\n",
      "                      malamute       0.49      0.50      0.49        36\n",
      "                      malinois       0.74      0.83      0.78        30\n",
      "            miniature_pinscher       0.78      0.76      0.77        37\n",
      "              miniature_poodle       0.45      0.45      0.45        31\n",
      "           miniature_schnauzer       0.68      0.74      0.71        31\n",
      "                    otterhound       0.93      0.83      0.88        30\n",
      "                      papillon       0.82      0.95      0.88        39\n",
      "                           pug       0.76      0.70      0.73        40\n",
      "                       redbone       0.74      0.57      0.64        30\n",
      "                    schipperke       0.83      0.97      0.90        31\n",
      "                 silky_terrier       0.79      0.73      0.76        37\n",
      "                          soft       0.62      0.81      0.70        31\n",
      "               standard_poodle       0.55      0.50      0.52        32\n",
      "            standard_schnauzer       0.68      0.61      0.64        31\n",
      "                    toy_poodle       0.59      0.57      0.58        30\n",
      "                   toy_terrier       0.63      0.89      0.74        35\n",
      "                        vizsla       0.71      0.87      0.78        31\n",
      "                       whippet       0.69      0.63      0.66        38\n",
      "                          wire       0.62      0.68      0.65        31\n",
      "\n",
      "                      accuracy                           0.74      4116\n",
      "                     macro avg       0.74      0.73      0.73      4116\n",
      "                  weighted avg       0.74      0.74      0.74      4116\n",
      "\n",
      "--------------------------------------------------\n"
     ]
    }
   ],
   "source": [
    "print(\"--- Memulai evaluasi model ---\")\n",
    "\n",
    "# --- 6.1: Muat Kembali Model Terbaik ---\n",
    "try:\n",
    "    model.load_weights(checkpoint_path)\n",
    "    print(f\"Berhasil memuat bobot model terbaik dari: {checkpoint_path}\")\n",
    "except Exception as e:\n",
    "    print(f\"Gagal memuat bobot terbaik. Menggunakan model yang terakhir dilatih. Error: {e}\")\n",
    "\n",
    "# --- 6.2: Evaluasi Performa pada Data Testing ---\n",
    "loss, accuracy = model.evaluate(test_generator)\n",
    "print(f\"\\nHasil Evaluasi pada Data Testing:\")\n",
    "print(f\"Test Loss: {loss:.4f}\")\n",
    "print(f\"Test Accuracy: {accuracy:.4f}\")\n",
    "\n",
    "# --- 6.3: Visualisasi Hasil Pelatihan ---\n",
    "plt.figure(figsize=(12, 5))\n",
    "\n",
    "# Plot Akurasi\n",
    "plt.subplot(1, 2, 1)\n",
    "plt.plot(history.history['accuracy'], label='Akurasi Pelatihan')\n",
    "plt.plot(history.history['val_accuracy'], label='Akurasi Validasi')\n",
    "plt.title('Grafik Akurasi Model')\n",
    "plt.xlabel('Epoch')\n",
    "plt.ylabel('Akurasi')\n",
    "plt.legend()\n",
    "plt.grid(True)\n",
    "\n",
    "# Plot Loss\n",
    "plt.subplot(1, 2, 2)\n",
    "plt.plot(history.history['loss'], label='Loss Pelatihan')\n",
    "plt.plot(history.history['val_loss'], label='Loss Validasi')\n",
    "plt.title('Grafik Loss Model')\n",
    "plt.xlabel('Epoch')\n",
    "plt.ylabel('Loss')\n",
    "plt.legend()\n",
    "plt.grid(True)\n",
    "plt.show()\n",
    "\n",
    "# --- 6.4: Laporan Klasifikasi Detil ---\n",
    "print(\"\\n--- Membuat prediksi pada data testing untuk Laporan Klasifikasi ---\")\n",
    "y_pred_probs = model.predict(test_generator)\n",
    "y_pred = np.argmax(y_pred_probs, axis=1)\n",
    "y_true = test_generator.classes\n",
    "\n",
    "true_labels_names = [idx_to_class[i] for i in y_true]\n",
    "predicted_labels_names = [idx_to_class[i] for i in y_pred]\n",
    "\n",
    "print(\"\\nLaporan Klasifikasi Detail:\")\n",
    "print(classification_report(true_labels_names, predicted_labels_names, target_names=list(idx_to_class.values())))\n",
    "\n",
    "print(\"-\" * 50)"
   ]
  },
  {
   "cell_type": "code",
   "execution_count": 12,
   "metadata": {
    "execution": {
     "iopub.execute_input": "2025-06-23T11:14:43.543479Z",
     "iopub.status.busy": "2025-06-23T11:14:43.543181Z",
     "iopub.status.idle": "2025-06-23T11:14:46.833457Z",
     "shell.execute_reply": "2025-06-23T11:14:46.832756Z",
     "shell.execute_reply.started": "2025-06-23T11:14:43.543458Z"
    },
    "trusted": true
   },
   "outputs": [
    {
     "name": "stdout",
     "output_type": "stream",
     "text": [
      "--- Menyimpan model dan metadata ---\n",
      "Model akhir berhasil disimpan ke: dog_breed_classifier_final_model.keras\n",
      "Mapping kelas berhasil disimpan ke: class_indices.json\n",
      "\n",
      "Proses di Kaggle Notebook selesai.\n",
      "File yang perlu Anda unduh dari bagian 'Output' pada Kaggle Notebook adalah:\n",
      "- dog_breed_classifier_final_model.keras\n",
      "- class_indices.json\n",
      "--------------------------------------------------\n"
     ]
    }
   ],
   "source": [
    "print(\"--- Menyimpan model dan metadata ---\")\n",
    "\n",
    "# --- 7.1: Simpan Seluruh Model ---\n",
    "# Menyimpan model dalam format .keras (format rekomendasi TensorFlow terbaru).\n",
    "# Ini menyimpan arsitektur, bobot, dan konfigurasi optimizer.\n",
    "model_save_path = 'dog_breed_classifier_final_model.keras'\n",
    "model.save(model_save_path)\n",
    "print(f\"Model akhir berhasil disimpan ke: {model_save_path}\")\n",
    "\n",
    "# --- 7.2: Simpan Mapping Kelas ---\n",
    "# Simpan dictionary 'idx_to_class' (indeks angka ke nama ras) ke file JSON.\n",
    "# File ini sangat penting untuk antarmuka agar tahu nama ras yang sesuai dengan prediksi angka.\n",
    "with open('class_indices.json', 'w') as f:\n",
    "    json.dump(idx_to_class, f)\n",
    "print(f\"Mapping kelas berhasil disimpan ke: class_indices.json\")\n",
    "\n",
    "print(\"\\nProses di Kaggle Notebook selesai.\")\n",
    "print(\"File yang perlu Anda unduh dari bagian 'Output' pada Kaggle Notebook adalah:\")\n",
    "print(f\"- {model_save_path}\")\n",
    "print(f\"- class_indices.json\")\n",
    "\n",
    "print(\"-\" * 50)"
   ]
  }
 ],
 "metadata": {
  "kaggle": {
   "accelerator": "nvidiaTeslaT4",
   "dataSources": [
    {
     "datasetId": 119698,
     "isSourceIdPinned": false,
     "sourceId": 791828,
     "sourceType": "datasetVersion"
    }
   ],
   "dockerImageVersionId": 31041,
   "isGpuEnabled": true,
   "isInternetEnabled": true,
   "language": "python",
   "sourceType": "notebook"
  },
  "kernelspec": {
   "display_name": "Python 3",
   "language": "python",
   "name": "python3"
  },
  "language_info": {
   "codemirror_mode": {
    "name": "ipython",
    "version": 3
   },
   "file_extension": ".py",
   "mimetype": "text/x-python",
   "name": "python",
   "nbconvert_exporter": "python",
   "pygments_lexer": "ipython3",
   "version": "3.11.11"
  }
 },
 "nbformat": 4,
 "nbformat_minor": 4
}
